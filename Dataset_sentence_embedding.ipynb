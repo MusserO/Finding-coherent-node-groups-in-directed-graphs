{
 "cells": [
  {
   "cell_type": "code",
   "execution_count": 1,
   "id": "c326abf0",
   "metadata": {},
   "outputs": [],
   "source": [
    "from sentence_transformers import SentenceTransformer\n",
    "# For model selection, see https://www.sbert.net/docs/pretrained_models.html\n",
    "# For MPNet, see https://arxiv.org/pdf/2004.09297.pdf\n",
    "model = SentenceTransformer('all-mpnet-base-v2')"
   ]
  },
  {
   "cell_type": "code",
   "execution_count": 1,
   "id": "6c646e93",
   "metadata": {},
   "outputs": [],
   "source": [
    "import networkx as nx\n",
    "from tqdm.notebook import tqdm\n",
    "import pickle, json, os\n",
    "\n",
    "def compute_vertex_edges(G):\n",
    "    # for each vertex v, store which edges are from v to another vertex and from another vertex to v\n",
    "    G.vertex_edges_from = dict({v:set() for v in G.nodes()})\n",
    "    G.vertex_edges_to = dict({v:set() for v in G.nodes()})\n",
    "    for u, v in G.edges():\n",
    "        G.vertex_edges_from[u].add((u, v))\n",
    "        G.vertex_edges_to[v].add((u, v))"
   ]
  },
  {
   "attachments": {},
   "cell_type": "markdown",
   "id": "261021d4",
   "metadata": {},
   "source": [
    "DBLP"
   ]
  },
  {
   "cell_type": "code",
   "execution_count": null,
   "id": "17ce6796",
   "metadata": {},
   "outputs": [],
   "source": [
    "import os, json\n",
    "from collections import Counter\n",
    "\n",
    "data_dir = \"dblp/\"\n",
    "\n",
    "G = nx.DiGraph()\n",
    "\n",
    "for conference_file in os.listdir(data_dir):\n",
    "    with open(os.path.join(data_dir, conference_file), encoding=\"utf8\", errors='ignore') as f:\n",
    "        conference_data = json.load(f)\n",
    "    for paper in tqdm(conference_data):\n",
    "        id = paper[\"id\"]\n",
    "        if \"references\" in paper:\n",
    "            references = paper[\"references\"]\n",
    "        else:\n",
    "            references = []\n",
    "        title  = paper[\"title\"]\n",
    "\n",
    "        G.add_node(id)\n",
    "        G.nodes[id][\"text\"] = title\n",
    "        G.nodes[id][\"features\"] = tuple(model.encode(title))\n",
    "\n",
    "        for reference in references:\n",
    "            G.add_edge(id, reference)\n",
    "    print(conference_file)"
   ]
  },
  {
   "cell_type": "code",
   "execution_count": null,
   "id": "bf66a815",
   "metadata": {},
   "outputs": [
    {
     "name": "stdout",
     "output_type": "stream",
     "text": [
      "Nodes: 131626 Edges: 358282\n"
     ]
    }
   ],
   "source": [
    "print(\"Nodes:\", len(G.nodes), \"Edges:\", len(G.edges))"
   ]
  },
  {
   "cell_type": "code",
   "execution_count": 5,
   "id": "6f3d2511",
   "metadata": {},
   "outputs": [],
   "source": [
    "# remove nodes that were only included as references and do not have features\n",
    "for v in tuple(G.nodes()):\n",
    "    if not 'features' in G.nodes[v]:\n",
    "        G.remove_node(v)"
   ]
  },
  {
   "cell_type": "code",
   "execution_count": 6,
   "id": "7b130b97",
   "metadata": {},
   "outputs": [
    {
     "name": "stdout",
     "output_type": "stream",
     "text": [
      "Nodes: 30581 Edges: 70972\n"
     ]
    }
   ],
   "source": [
    "print(\"Nodes:\", len(G.nodes), \"Edges:\", len(G.edges))\n",
    "compute_vertex_edges(G)"
   ]
  },
  {
   "cell_type": "code",
   "execution_count": 12,
   "id": "c4e6669a",
   "metadata": {},
   "outputs": [],
   "source": [
    "with open(\"dblp_graph.pkl\", \"wb\") as file:\n",
    "    pickle.dump(G, file)"
   ]
  },
  {
   "attachments": {},
   "cell_type": "markdown",
   "id": "16ba8f7d",
   "metadata": {},
   "source": [
    "Reddit"
   ]
  },
  {
   "cell_type": "code",
   "execution_count": 34,
   "id": "652d6a55",
   "metadata": {},
   "outputs": [
    {
     "name": "stdout",
     "output_type": "stream",
     "text": [
      "Nodes: 74778 Edges: 74777\n"
     ]
    }
   ],
   "source": [
    "with open(\"reddit_graph.pkl\", \"rb\") as file:\n",
    "    G = pickle.load(file)\n",
    "\n",
    "print(\"Nodes:\", len(G.nodes), \"Edges:\", len(G.edges))\n",
    "compute_vertex_edges(G)\n",
    "\n",
    "for node in G.nodes():\n",
    "    G.nodes[node][\"features\"] = tuple(model.encode(G.nodes[node][\"text\"]))\n",
    "\n",
    "with open(\"reddit_graph.pkl\", \"wb\") as file:\n",
    "    pickle.dump(G, file)"
   ]
  }
 ],
 "metadata": {
  "kernelspec": {
   "display_name": "Python 3 (ipykernel)",
   "language": "python",
   "name": "python3"
  },
  "language_info": {
   "codemirror_mode": {
    "name": "ipython",
    "version": 3
   },
   "file_extension": ".py",
   "mimetype": "text/x-python",
   "name": "python",
   "nbconvert_exporter": "python",
   "pygments_lexer": "ipython3",
   "version": "3.10.6"
  }
 },
 "nbformat": 4,
 "nbformat_minor": 5
}
