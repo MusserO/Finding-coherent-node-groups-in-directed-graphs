{
 "cells": [
  {
   "cell_type": "code",
   "execution_count": 31,
   "metadata": {},
   "outputs": [],
   "source": [
    "import praw\n",
    "\n",
    "# read CLIENT_ID and SECRET_TOKEN from a file\n",
    "with open('reddit_credentials.txt') as f:\n",
    "    CLIENT_ID = f.readline().strip()\n",
    "    SECRET_TOKEN = f.readline().strip()\n",
    "\n",
    "reddit = praw.Reddit(\n",
    "    client_id=CLIENT_ID,\n",
    "    client_secret=SECRET_TOKEN,\n",
    "    user_agent=\"DataCollector\",\n",
    ")\n",
    "\n",
    "url = \"https://www.reddit.com/r/politics/comments/jptq5n/megathread_joe_biden_projected_to_defeat/\"\n",
    "submission = reddit.submission(url=url)"
   ]
  },
  {
   "cell_type": "code",
   "execution_count": 32,
   "metadata": {},
   "outputs": [],
   "source": [
    "import networkx as nx\n",
    "\n",
    "G = nx.DiGraph()\n",
    "\n",
    "submission.comments.replace_more(limit=None)\n",
    "comment_queue = submission.comments[:]  # Seed with top-level\n",
    "for comment in comment_queue:\n",
    "    G.add_edge(submission.id, comment.id)\n",
    "G.nodes[submission.id][\"text\"] = submission.selftext\n",
    "while comment_queue:\n",
    "    comment = comment_queue.pop(0)\n",
    "    G.nodes[comment.id][\"text\"] = comment.body\n",
    "    comment_queue.extend(comment.replies)\n",
    "    for reply in comment.replies:\n",
    "        G.add_edge(comment.id, reply.id)"
   ]
  },
  {
   "cell_type": "code",
   "execution_count": 43,
   "metadata": {},
   "outputs": [],
   "source": [
    "import pickle\n",
    "with open(\"reddit_graph.pkl\", \"wb\") as file:\n",
    "    pickle.dump(G, file)"
   ]
  }
 ],
 "metadata": {
  "kernelspec": {
   "display_name": "Python 3",
   "language": "python",
   "name": "python3"
  },
  "language_info": {
   "codemirror_mode": {
    "name": "ipython",
    "version": 3
   },
   "file_extension": ".py",
   "mimetype": "text/x-python",
   "name": "python",
   "nbconvert_exporter": "python",
   "pygments_lexer": "ipython3",
   "version": "3.10.6"
  },
  "orig_nbformat": 4
 },
 "nbformat": 4,
 "nbformat_minor": 2
}
